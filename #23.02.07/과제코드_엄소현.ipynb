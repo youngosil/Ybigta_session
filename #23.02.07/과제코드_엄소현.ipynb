{
 "cells": [
  {
   "attachments": {},
   "cell_type": "markdown",
   "metadata": {},
   "source": [
    "# 과제1"
   ]
  },
  {
   "cell_type": "code",
   "execution_count": null,
   "metadata": {},
   "outputs": [],
   "source": [
    "import requests\n",
    "\n",
    "url = 'https://www.yonsei.ac.kr/sc/support/calendar.jsp'\n",
    "res = requests.get(url)\n",
    "\n",
    "print(res) # 응답 객체\n",
    "res.text # HTML 텍스트"
   ]
  },
  {
   "cell_type": "code",
   "execution_count": 2,
   "metadata": {},
   "outputs": [],
   "source": [
    "# html 텍스트\n",
    "html = res.text"
   ]
  },
  {
   "cell_type": "code",
   "execution_count": 3,
   "metadata": {},
   "outputs": [],
   "source": [
    "from bs4 import BeautifulSoup\n",
    "\n",
    "# 첫 번째 인자: 파싱할 객체\n",
    "# 두 번째 인자: 사용할 parser(구문 분석기)\n",
    "soup = BeautifulSoup(html, 'html.parser') "
   ]
  },
  {
   "cell_type": "code",
   "execution_count": 129,
   "metadata": {},
   "outputs": [
    {
     "name": "stdout",
     "output_type": "stream",
     "text": [
      "[<th rowspan=\"6\" scope=\"row\"><span class=\"month2\">02 FEB</span></th>, <th rowspan=\"6\" scope=\"row\"><span class=\"month3\">03 MAR</span></th>, <th rowspan=\"7\" scope=\"row\"><span class=\"month4\">04 APR</span></th>, <th rowspan=\"8\" scope=\"row\"><span class=\"month5\">05 MAY</span></th>, <th rowspan=\"9\" scope=\"row\"><span class=\"month6\">06 JUN</span></th>, <th rowspan=\"1\" scope=\"row\"><span class=\"month7\">07 JUL</span></th>, <th rowspan=\"5\" scope=\"row\"><span class=\"month8\">08 AUG</span></th>]\n",
      "['02 FEB', '03 MAR', '04 APR', '05 MAY', '06 JUN', '07 JUL', '08 AUG']\n"
     ]
    }
   ],
   "source": [
    "tag1 = soup.find_all('th')\n",
    "print(tag1)\n",
    "\n",
    "month=[]\n",
    "for i in range(0,7):\n",
    "    month.append(tag[i].get_text())\n",
    "    pass\n",
    "\n",
    "print(month)"
   ]
  },
  {
   "cell_type": "code",
   "execution_count": 139,
   "metadata": {},
   "outputs": [
    {
     "data": {
      "text/plain": [
       "84"
      ]
     },
     "execution_count": 139,
     "metadata": {},
     "output_type": "execute_result"
    }
   ],
   "source": [
    "tag2=soup.find_all('td',class_='des')\n",
    "#print(tag2)\n",
    "tag2[1].get_text()\n",
    "len(tag2)"
   ]
  },
  {
   "cell_type": "code",
   "execution_count": 124,
   "metadata": {},
   "outputs": [
    {
     "name": "stdout",
     "output_type": "stream",
     "text": [
      "['1(수) ', '13(월)~17(금) ', '17(금)~23(목) ', '22(수) ', '26(일) ', '27(월) ', '1(수) ', '2(목) ', '6(월)~8(수) ', '10(금)~13(월) ', '13(월)~17(금) ', '15(수) ', '6(목) ', '7(금) ', '9(일)~15(토) ', '9(일) ', '20(목)~26(수) ', '27(목)~5.3(수) ', '27(목)~5.1(월) ', '1(월) ', '2(화)~4(목) ', '4(목) ', '5(금) ', '10(수) ', '13(토) ', '15(월) ', '27(토) ', '1(목) ', '4(일) ', '6(화) ', '8(목)~14(수) ', '15(목)~21(수) ', '22(목) ', '22(목)~28(수) ', '26(월) ', '28(수) ', '17(월) ', '1(화) ', '15(화) ', '16(수)~22(화) ', '18(금)~24(목) ', '25(금) ']\n",
      "['휴\\xa0·\\xa0복학\\xa0접수\\xa0시작', '2023-1학기\\xa0수강신청', '2023-1학기\\xa0등록', '복학\\xa0접수\\xa0마감', '졸업예배', '학위수여식', '삼일절', '개강\\xa0/\\xa0교무위원회', '수강신청\\xa0확인\\xa0및\\xa0변경', '2023-1학기\\xa0추가등록', '조기졸업\\xa0신청', '미등록자\\xa0일반\\xa0휴학\\xa0접수\\xa0마감\\xa0/\\xa0등록금\\xa0전액반환\\xa0마감', '교무위원회', '학기\\xa01/3선', '고난주간', '부활절', '중간시험', '2023-2학기\\xa0캠퍼스내\\xa0소속변경\\xa0신청', '수강철회', '근로자의\\xa0날', 'S/U평가\\xa0신청', '교무위원회', '어린이날', '은퇴교수의\\xa0날', '창립기념일', '학기\\xa02/3선\\xa0/\\xa0일반휴학\\xa0접수\\xa0마감', '부처님\\xa0오신\\xa0날', '교무위원회\\xa0/\\xa0질병휴학\\xa0접수\\xa0마감', '성령강림일', '현충일', '자율학습\\xa0및\\xa0보충수업\\xa0기간', '학기말\\xa0시험', '여름방학\\xa0시작', '2023-2학기\\xa0캠퍼스내\\xa0복수전공\\xa0·\\xa0연계전공\\xa0신청', '여름계절제\\xa0수업\\xa0시작', '2023-1학기\\xa0성적제출\\xa0마감', '여름계절제\\xa0수업\\xa0종료', '휴\\xa0·\\xa0복학\\xa0접수\\xa0시작', '광복절', '2023-2학기\\xa0수강신청', '2023-2학기\\xa0등록', '학위수여식\\xa0/\\xa0복학\\xa0접수\\xa0마감']\n"
     ]
    }
   ],
   "source": [
    "\n",
    "day=[]\n",
    "event=[]\n",
    "\n",
    "for i in range(len(tag2)):\n",
    "    if i%2==0:\n",
    "        day.append(tag2[i].get_text().replace('\\t', '').replace('\\n', ''))\n",
    "    else:\n",
    "        event.append(tag2[i].get_text())\n",
    "    pass\n",
    "\n",
    "print(day)\n",
    "print(event)"
   ]
  },
  {
   "cell_type": "code",
   "execution_count": 127,
   "metadata": {},
   "outputs": [
    {
     "data": {
      "text/html": [
       "<div>\n",
       "<style scoped>\n",
       "    .dataframe tbody tr th:only-of-type {\n",
       "        vertical-align: middle;\n",
       "    }\n",
       "\n",
       "    .dataframe tbody tr th {\n",
       "        vertical-align: top;\n",
       "    }\n",
       "\n",
       "    .dataframe thead th {\n",
       "        text-align: right;\n",
       "    }\n",
       "</style>\n",
       "<table border=\"1\" class=\"dataframe\">\n",
       "  <thead>\n",
       "    <tr style=\"text-align: right;\">\n",
       "      <th></th>\n",
       "      <th>day</th>\n",
       "      <th>event</th>\n",
       "    </tr>\n",
       "  </thead>\n",
       "  <tbody>\n",
       "    <tr>\n",
       "      <th>0</th>\n",
       "      <td>1(수)</td>\n",
       "      <td>휴 · 복학 접수 시작</td>\n",
       "    </tr>\n",
       "    <tr>\n",
       "      <th>1</th>\n",
       "      <td>13(월)~17(금)</td>\n",
       "      <td>2023-1학기 수강신청</td>\n",
       "    </tr>\n",
       "    <tr>\n",
       "      <th>2</th>\n",
       "      <td>17(금)~23(목)</td>\n",
       "      <td>2023-1학기 등록</td>\n",
       "    </tr>\n",
       "    <tr>\n",
       "      <th>3</th>\n",
       "      <td>22(수)</td>\n",
       "      <td>복학 접수 마감</td>\n",
       "    </tr>\n",
       "    <tr>\n",
       "      <th>4</th>\n",
       "      <td>26(일)</td>\n",
       "      <td>졸업예배</td>\n",
       "    </tr>\n",
       "    <tr>\n",
       "      <th>5</th>\n",
       "      <td>27(월)</td>\n",
       "      <td>학위수여식</td>\n",
       "    </tr>\n",
       "    <tr>\n",
       "      <th>6</th>\n",
       "      <td>1(수)</td>\n",
       "      <td>삼일절</td>\n",
       "    </tr>\n",
       "    <tr>\n",
       "      <th>7</th>\n",
       "      <td>2(목)</td>\n",
       "      <td>개강 / 교무위원회</td>\n",
       "    </tr>\n",
       "    <tr>\n",
       "      <th>8</th>\n",
       "      <td>6(월)~8(수)</td>\n",
       "      <td>수강신청 확인 및 변경</td>\n",
       "    </tr>\n",
       "    <tr>\n",
       "      <th>9</th>\n",
       "      <td>10(금)~13(월)</td>\n",
       "      <td>2023-1학기 추가등록</td>\n",
       "    </tr>\n",
       "    <tr>\n",
       "      <th>10</th>\n",
       "      <td>13(월)~17(금)</td>\n",
       "      <td>조기졸업 신청</td>\n",
       "    </tr>\n",
       "    <tr>\n",
       "      <th>11</th>\n",
       "      <td>15(수)</td>\n",
       "      <td>미등록자 일반 휴학 접수 마감 / 등록금 전액반환 마감</td>\n",
       "    </tr>\n",
       "    <tr>\n",
       "      <th>12</th>\n",
       "      <td>6(목)</td>\n",
       "      <td>교무위원회</td>\n",
       "    </tr>\n",
       "    <tr>\n",
       "      <th>13</th>\n",
       "      <td>7(금)</td>\n",
       "      <td>학기 1/3선</td>\n",
       "    </tr>\n",
       "    <tr>\n",
       "      <th>14</th>\n",
       "      <td>9(일)~15(토)</td>\n",
       "      <td>고난주간</td>\n",
       "    </tr>\n",
       "    <tr>\n",
       "      <th>15</th>\n",
       "      <td>9(일)</td>\n",
       "      <td>부활절</td>\n",
       "    </tr>\n",
       "    <tr>\n",
       "      <th>16</th>\n",
       "      <td>20(목)~26(수)</td>\n",
       "      <td>중간시험</td>\n",
       "    </tr>\n",
       "    <tr>\n",
       "      <th>17</th>\n",
       "      <td>27(목)~5.3(수)</td>\n",
       "      <td>2023-2학기 캠퍼스내 소속변경 신청</td>\n",
       "    </tr>\n",
       "    <tr>\n",
       "      <th>18</th>\n",
       "      <td>27(목)~5.1(월)</td>\n",
       "      <td>수강철회</td>\n",
       "    </tr>\n",
       "    <tr>\n",
       "      <th>19</th>\n",
       "      <td>1(월)</td>\n",
       "      <td>근로자의 날</td>\n",
       "    </tr>\n",
       "    <tr>\n",
       "      <th>20</th>\n",
       "      <td>2(화)~4(목)</td>\n",
       "      <td>S/U평가 신청</td>\n",
       "    </tr>\n",
       "    <tr>\n",
       "      <th>21</th>\n",
       "      <td>4(목)</td>\n",
       "      <td>교무위원회</td>\n",
       "    </tr>\n",
       "    <tr>\n",
       "      <th>22</th>\n",
       "      <td>5(금)</td>\n",
       "      <td>어린이날</td>\n",
       "    </tr>\n",
       "    <tr>\n",
       "      <th>23</th>\n",
       "      <td>10(수)</td>\n",
       "      <td>은퇴교수의 날</td>\n",
       "    </tr>\n",
       "    <tr>\n",
       "      <th>24</th>\n",
       "      <td>13(토)</td>\n",
       "      <td>창립기념일</td>\n",
       "    </tr>\n",
       "    <tr>\n",
       "      <th>25</th>\n",
       "      <td>15(월)</td>\n",
       "      <td>학기 2/3선 / 일반휴학 접수 마감</td>\n",
       "    </tr>\n",
       "    <tr>\n",
       "      <th>26</th>\n",
       "      <td>27(토)</td>\n",
       "      <td>부처님 오신 날</td>\n",
       "    </tr>\n",
       "    <tr>\n",
       "      <th>27</th>\n",
       "      <td>1(목)</td>\n",
       "      <td>교무위원회 / 질병휴학 접수 마감</td>\n",
       "    </tr>\n",
       "    <tr>\n",
       "      <th>28</th>\n",
       "      <td>4(일)</td>\n",
       "      <td>성령강림일</td>\n",
       "    </tr>\n",
       "    <tr>\n",
       "      <th>29</th>\n",
       "      <td>6(화)</td>\n",
       "      <td>현충일</td>\n",
       "    </tr>\n",
       "    <tr>\n",
       "      <th>30</th>\n",
       "      <td>8(목)~14(수)</td>\n",
       "      <td>자율학습 및 보충수업 기간</td>\n",
       "    </tr>\n",
       "    <tr>\n",
       "      <th>31</th>\n",
       "      <td>15(목)~21(수)</td>\n",
       "      <td>학기말 시험</td>\n",
       "    </tr>\n",
       "    <tr>\n",
       "      <th>32</th>\n",
       "      <td>22(목)</td>\n",
       "      <td>여름방학 시작</td>\n",
       "    </tr>\n",
       "    <tr>\n",
       "      <th>33</th>\n",
       "      <td>22(목)~28(수)</td>\n",
       "      <td>2023-2학기 캠퍼스내 복수전공 · 연계전공 신청</td>\n",
       "    </tr>\n",
       "    <tr>\n",
       "      <th>34</th>\n",
       "      <td>26(월)</td>\n",
       "      <td>여름계절제 수업 시작</td>\n",
       "    </tr>\n",
       "    <tr>\n",
       "      <th>35</th>\n",
       "      <td>28(수)</td>\n",
       "      <td>2023-1학기 성적제출 마감</td>\n",
       "    </tr>\n",
       "    <tr>\n",
       "      <th>36</th>\n",
       "      <td>17(월)</td>\n",
       "      <td>여름계절제 수업 종료</td>\n",
       "    </tr>\n",
       "    <tr>\n",
       "      <th>37</th>\n",
       "      <td>1(화)</td>\n",
       "      <td>휴 · 복학 접수 시작</td>\n",
       "    </tr>\n",
       "    <tr>\n",
       "      <th>38</th>\n",
       "      <td>15(화)</td>\n",
       "      <td>광복절</td>\n",
       "    </tr>\n",
       "    <tr>\n",
       "      <th>39</th>\n",
       "      <td>16(수)~22(화)</td>\n",
       "      <td>2023-2학기 수강신청</td>\n",
       "    </tr>\n",
       "    <tr>\n",
       "      <th>40</th>\n",
       "      <td>18(금)~24(목)</td>\n",
       "      <td>2023-2학기 등록</td>\n",
       "    </tr>\n",
       "    <tr>\n",
       "      <th>41</th>\n",
       "      <td>25(금)</td>\n",
       "      <td>학위수여식 / 복학 접수 마감</td>\n",
       "    </tr>\n",
       "  </tbody>\n",
       "</table>\n",
       "</div>"
      ],
      "text/plain": [
       "              day                           event\n",
       "0           1(수)                     휴 · 복학 접수 시작\n",
       "1    13(월)~17(금)                    2023-1학기 수강신청\n",
       "2    17(금)~23(목)                      2023-1학기 등록\n",
       "3          22(수)                         복학 접수 마감\n",
       "4          26(일)                             졸업예배\n",
       "5          27(월)                            학위수여식\n",
       "6           1(수)                              삼일절\n",
       "7           2(목)                       개강 / 교무위원회\n",
       "8      6(월)~8(수)                     수강신청 확인 및 변경\n",
       "9    10(금)~13(월)                    2023-1학기 추가등록\n",
       "10   13(월)~17(금)                          조기졸업 신청\n",
       "11         15(수)   미등록자 일반 휴학 접수 마감 / 등록금 전액반환 마감\n",
       "12          6(목)                            교무위원회\n",
       "13          7(금)                          학기 1/3선\n",
       "14    9(일)~15(토)                             고난주간\n",
       "15          9(일)                              부활절\n",
       "16   20(목)~26(수)                             중간시험\n",
       "17  27(목)~5.3(수)            2023-2학기 캠퍼스내 소속변경 신청\n",
       "18  27(목)~5.1(월)                             수강철회\n",
       "19          1(월)                           근로자의 날\n",
       "20     2(화)~4(목)                         S/U평가 신청\n",
       "21          4(목)                            교무위원회\n",
       "22          5(금)                             어린이날\n",
       "23         10(수)                          은퇴교수의 날\n",
       "24         13(토)                            창립기념일\n",
       "25         15(월)             학기 2/3선 / 일반휴학 접수 마감\n",
       "26         27(토)                         부처님 오신 날\n",
       "27          1(목)               교무위원회 / 질병휴학 접수 마감\n",
       "28          4(일)                            성령강림일\n",
       "29          6(화)                              현충일\n",
       "30    8(목)~14(수)                   자율학습 및 보충수업 기간\n",
       "31   15(목)~21(수)                           학기말 시험\n",
       "32         22(목)                          여름방학 시작\n",
       "33   22(목)~28(수)     2023-2학기 캠퍼스내 복수전공 · 연계전공 신청\n",
       "34         26(월)                      여름계절제 수업 시작\n",
       "35         28(수)                 2023-1학기 성적제출 마감\n",
       "36         17(월)                      여름계절제 수업 종료\n",
       "37          1(화)                     휴 · 복학 접수 시작\n",
       "38         15(화)                              광복절\n",
       "39   16(수)~22(화)                    2023-2학기 수강신청\n",
       "40   18(금)~24(목)                      2023-2학기 등록\n",
       "41         25(금)                 학위수여식 / 복학 접수 마감"
      ]
     },
     "execution_count": 127,
     "metadata": {},
     "output_type": "execute_result"
    }
   ],
   "source": [
    "import pandas as pd\n",
    "\n",
    "#아직 month 길이 조절을 못했습니다 ㅠㅠ\n",
    "df=pd.DataFrame({'day':day,'event':event})\n",
    "df"
   ]
  },
  {
   "attachments": {},
   "cell_type": "markdown",
   "metadata": {},
   "source": [
    "# 과제2"
   ]
  },
  {
   "cell_type": "code",
   "execution_count": 1,
   "metadata": {},
   "outputs": [],
   "source": [
    "import selenium\n",
    "from selenium import webdriver\n",
    "\n",
    "driver = webdriver.Chrome()"
   ]
  },
  {
   "cell_type": "code",
   "execution_count": 2,
   "metadata": {},
   "outputs": [],
   "source": [
    "from selenium.webdriver.common.by import By\n",
    "from selenium.webdriver.common.keys import Keys\n",
    "\n",
    "# 해당 URL로 이동\n",
    "driver.get('https://www.naver.com/') \n",
    "\n",
    "# 웹 페이지 요소 로드를 기다림\n",
    "driver.implicitly_wait(5)"
   ]
  },
  {
   "cell_type": "code",
   "execution_count": 3,
   "metadata": {},
   "outputs": [
    {
     "data": {
      "text/plain": [
       "'https://www.naver.com/'"
      ]
     },
     "execution_count": 3,
     "metadata": {},
     "output_type": "execute_result"
    }
   ],
   "source": [
    "# 현재 열려있는 페이지 url 찾기\n",
    "url = driver.current_url\n",
    "url"
   ]
  },
  {
   "cell_type": "code",
   "execution_count": 4,
   "metadata": {},
   "outputs": [],
   "source": [
    "# XPATH를 이용하여 검색창에 해당하는 요소 찾기\n",
    "search = driver.find_element(By.XPATH, '//*[@id=\"query\"]')\n",
    "\n",
    "# 검색어 입력\n",
    "search.send_keys('고려대학교')\n",
    "\n",
    "# Keys.RETURN = Enter 입력\n",
    "search.send_keys(Keys.RETURN)\n",
    "\n",
    "img = driver.find_element(By.XPATH, '//*[@id=\"main_pack\"]/div[2]/div[2]/div[1]/div/div[2]/a/img')\n",
    "img_url = img.get_attribute('src')"
   ]
  },
  {
   "cell_type": "code",
   "execution_count": 5,
   "metadata": {},
   "outputs": [
    {
     "name": "stdout",
     "output_type": "stream",
     "text": [
      "https://search.pstatic.net/common?type=f&size=174x174&quality=100&direct=true&src=https%3A%2F%2Fldb-phinf.pstatic.net%2F20150831_102%2F1441001184354BvGxq_JPEG%2F11591498_0.jpg\n"
     ]
    }
   ],
   "source": [
    "print(img_url)"
   ]
  },
  {
   "cell_type": "code",
   "execution_count": 6,
   "metadata": {},
   "outputs": [
    {
     "data": {
      "text/plain": [
       "('C:\\\\youngosil_git\\\\Ybigta_session\\\\#23.02.07/고려대학교 썸네일.png',\n",
       " <http.client.HTTPMessage at 0x238d0868708>)"
      ]
     },
     "execution_count": 6,
     "metadata": {},
     "output_type": "execute_result"
    }
   ],
   "source": [
    "import urllib.request\n",
    "#from PIL import Image\n",
    "\n",
    "#img.save('C:\\youngosil_git\\Ybigta_session\\#23.02.07/고려대학교썸네일.png', 'png')\n",
    "path = \"C:\\youngosil_git\\Ybigta_session\\#23.02.07/\"+\"고려대학교 썸네일.png\"\n",
    "urllib.request.urlretrieve(img_url, path)"
   ]
  },
  {
   "cell_type": "code",
   "execution_count": 7,
   "metadata": {},
   "outputs": [],
   "source": [
    "# 브라우저 닫기\n",
    "driver.close()"
   ]
  }
 ],
 "metadata": {
  "kernelspec": {
   "display_name": "crolling",
   "language": "python",
   "name": "crolling"
  },
  "language_info": {
   "codemirror_mode": {
    "name": "ipython",
    "version": 3
   },
   "file_extension": ".py",
   "mimetype": "text/x-python",
   "name": "python",
   "nbconvert_exporter": "python",
   "pygments_lexer": "ipython3",
   "version": "3.7.16"
  },
  "orig_nbformat": 4,
  "vscode": {
   "interpreter": {
    "hash": "12fe014af694f6cd2f8d0ade5604c832dd35976a7b6f341741ba2f17c21d0035"
   }
  }
 },
 "nbformat": 4,
 "nbformat_minor": 2
}
